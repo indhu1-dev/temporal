{
 "cells": [
  {
   "cell_type": "code",
   "execution_count": 1,
   "metadata": {},
   "outputs": [],
   "source": [
    "%load_ext autoreload"
   ]
  },
  {
   "cell_type": "code",
   "execution_count": 2,
   "metadata": {},
   "outputs": [],
   "source": [
    "%autoreload 2"
   ]
  },
  {
   "cell_type": "code",
   "execution_count": 2,
   "metadata": {},
   "outputs": [
    {
     "name": "stderr",
     "output_type": "stream",
     "text": [
      "[nltk_data] Error loading punkt: <urlopen error [Errno 8] nodename nor\n",
      "[nltk_data]     servname provided, or not known>\n",
      "[nltk_data] Error loading stopwords: <urlopen error [Errno 8] nodename\n",
      "[nltk_data]     nor servname provided, or not known>\n",
      "Using TensorFlow backend.\n"
     ]
    }
   ],
   "source": [
    "import datetime\n",
    "import pickle\n",
    "import threading\n",
    "import numpy as np\n",
    "from progressbar import *\n",
    "from models import Model\n",
    "from models.ExpGlm import ExpGlm\n",
    "from models.WblGlm import WblGlm\n",
    "from models.NpGlm import NpGlm\n",
    "from models.RayGlm import RayGlm\n",
    "#from features.delicious.extraction import run as delicious_feature\n",
    "#from features.movielens.extraction import run as movielens_feature\n",
    "from features.dblp.extraction import run as dblp_feature\n",
    "from features.utils import timestamp_delta_generator\n",
    "from features.autoencoder import encode\n",
    "from sklearn.model_selection import StratifiedKFold, train_test_split\n",
    "from sklearn.metrics import mean_absolute_error, mean_squared_error, mean_squared_log_error, median_absolute_error\n",
    "from sklearn.preprocessing import MinMaxScaler"
   ]
  },
  {
   "cell_type": "code",
   "execution_count": 3,
   "metadata": {},
   "outputs": [],
   "source": [
    "np.random.seed(0)"
   ]
  },
  {
   "cell_type": "code",
   "execution_count": 4,
   "metadata": {},
   "outputs": [],
   "source": [
    "def get_model(dist):\n",
    "    return {\n",
    "        'np': NpGlm(),\n",
    "        'wbl': WblGlm(),\n",
    "        'exp': ExpGlm(),\n",
    "        'ray': RayGlm(),\n",
    "    }[dist]"
   ]
  },
  {
   "cell_type": "code",
   "execution_count": 5,
   "metadata": {},
   "outputs": [],
   "source": [
    "def generate_c_index(T_true, T_pred, Y):\n",
    "    total_number_of_pairs = 0\n",
    "    number_of_correct_predictions = 0\n",
    "\n",
    "    for i in range(len(T_true)):\n",
    "        for j in range(len(T_true) - 1, i, -1):\n",
    "            if Y[i] != 0 or Y[j] != 0:  # if one or both of the samples are in observation window\n",
    "                total_number_of_pairs += 1\n",
    "                if T_true[i] > T_true[j] and T_pred[i] > T_pred[j]:\n",
    "                    number_of_correct_predictions += 1\n",
    "                if T_true[i] < T_true[j] and T_pred[i] < T_pred[j]:\n",
    "                    number_of_correct_predictions += 1\n",
    "                if T_true[i] == T_true[j] and T_pred[i] == T_pred[j]:\n",
    "                    number_of_correct_predictions += 1\n",
    "\n",
    "    return number_of_correct_predictions / total_number_of_pairs"
   ]
  },
  {
   "cell_type": "code",
   "execution_count": 6,
   "metadata": {},
   "outputs": [],
   "source": [
    "def prepare_data(X, Y, T, convert_to_month=False):\n",
    "    T = T.astype(np.float64)\n",
    "    if convert_to_month:\n",
    "        T /= timestamp_delta_generator(months=1)\n",
    "    T += np.random.rand(len(T)) * Y\n",
    "\n",
    "    index = np.argsort(T, axis=0).ravel()\n",
    "    X = X[index, :]\n",
    "    Y = Y[index]\n",
    "    T = T[index]\n",
    "\n",
    "    return X, Y, T"
   ]
  },
  {
   "cell_type": "code",
   "execution_count": 7,
   "metadata": {},
   "outputs": [],
   "source": [
    "def evaluate(model: Model, X_train: np.ndarray, Y_train: np.ndarray, T_train: np.ndarray, X_test: np.ndarray,\n",
    "             Y_test: np.ndarray, T_test: np.ndarray, acc_thresholds):\n",
    "    model.fit(X_train, Y_train, T_train)\n",
    "    T_pred = model.quantile(X_test, .5).ravel()\n",
    "    c_index = generate_c_index(T_test, np.fmin(T_pred, max(T_test)), Y_test)\n",
    "\n",
    "    k = Y_test.sum()\n",
    "    T_test = T_test[:k]\n",
    "    T_pred = T_pred[:k]\n",
    "\n",
    "    res = np.abs(T_pred - T_test)\n",
    "\n",
    "    distance = np.zeros((len(acc_thresholds)))\n",
    "    for i in range(len(acc_thresholds)):\n",
    "        distance[i] = (res <= acc_thresholds[i]).sum() / len(res)\n",
    "\n",
    "    mae = mean_absolute_error(T_test, T_pred)\n",
    "    rmse = mean_squared_error(T_test, T_pred) ** .5\n",
    "    msle = mean_squared_log_error(T_test, T_pred)\n",
    "    mre = (res / T_test).mean()\n",
    "    mad = median_absolute_error(T_test, T_pred)\n",
    "\n",
    "    return (mae, mre, rmse, msle, mad, c_index) + tuple(distance)"
   ]
  },
  {
   "cell_type": "code",
   "execution_count": 8,
   "metadata": {},
   "outputs": [],
   "source": [
    "def cross_validate(dists, X_stat, X, Y, T, cv, acc_thresholds):\n",
    "    threads = []\n",
    "    results = {dist+pos: [] for dist in dists for pos in ['', '_stat']}\n",
    "    k_fold = StratifiedKFold(n_splits=cv, shuffle=True)\n",
    "\n",
    "    widget = [Bar('=', '[', ']'), ' ', Percentage()]\n",
    "    bar = ProgressBar(maxval=cv*len(dists)*2, widgets=widget)\n",
    "    \n",
    "    for training_indices, test_indices in k_fold.split(X=X, y=Y):\n",
    "        X_stat_train = X_stat[training_indices, :]\n",
    "        X_train = X[training_indices, :]\n",
    "        Y_train = Y[training_indices]\n",
    "        T_train = T[training_indices]\n",
    "\n",
    "        X_stat_test = X_stat[test_indices, :]\n",
    "        X_test = X[test_indices, :]\n",
    "        Y_test = Y[test_indices]\n",
    "        T_test = T[test_indices]\n",
    "\n",
    "        def worker():\n",
    "            for dist in dists:\n",
    "                model = get_model(dist)\n",
    "                scores = evaluate(model, X_train, Y_train, T_train, X_test, Y_test, T_test, acc_thresholds)\n",
    "                results[dist].append(scores)\n",
    "                bar.update(bar.currval+1)\n",
    "                scores_stat = evaluate(model, X_stat_train, Y_train, T_train, X_stat_test, Y_test, T_test, acc_thresholds)\n",
    "                results[dist+'_stat'].append(scores_stat)\n",
    "                bar.update(bar.currval+1)\n",
    "\n",
    "        job = threading.Thread(target=worker)\n",
    "        threads.append(job)\n",
    "        \n",
    "    bar.start()\n",
    "\n",
    "    for t in threads:\n",
    "        t.start()\n",
    "    for t in threads:\n",
    "        t.join()\n",
    "    \n",
    "    bar.finish()\n",
    "    \n",
    "    return results"
   ]
  },
  {
   "cell_type": "code",
   "execution_count": 9,
   "metadata": {},
   "outputs": [],
   "source": [
    "def get_name(dist):\n",
    "    return {\n",
    "        'np': 'NP-Glm',\n",
    "        'wbl': 'Wbl-Glm',\n",
    "        'exp': 'Exp-Glm',\n",
    "        'ray': 'Ray-Glm',\n",
    "    }[dist]"
   ]
  },
  {
   "cell_type": "code",
   "execution_count": 10,
   "metadata": {
    "scrolled": false
   },
   "outputs": [
    {
     "name": "stderr",
     "output_type": "stream",
     "text": [
      "11:49:56: generating papers ...\n",
      "11:50:54: parsing dataset ...\n",
      "11:50:54: generating samples ...\n",
      "11:50:54: extracting ...\n",
      "11:50:55: parsing dataset ...\n",
      "11:50:55: extracting ...\n",
      "11:50:55: parsing dataset ...\n",
      "11:50:56: extracting ...\n",
      "11:50:56: parsing dataset ...\n",
      "11:50:56: extracting ...\n",
      "11:50:57: done.\n"
     ]
    }
   ],
   "source": [
    "X_list, Y_raw, T_raw = dblp_feature(delta=1, observation_window=6, n_snapshots=3)\n",
    "# X_list, Y_raw, T_raw = delicious_feature(delta=1, observation_window=6, n_snapshots=9)\n",
    "# X_list, Y_raw, T_raw = movielens_feature(delta=1, observation_window=6, n_snapshots=9)"
   ]
  },
  {
   "cell_type": "code",
   "execution_count": 11,
   "metadata": {},
   "outputs": [],
   "source": [
    "limit = 4000\n",
    "if len(Y_raw) > limit:\n",
    "    X = np.stack(X_list, axis=1)  # X.shape = (n_samples, timesteps, n_features)\n",
    "    X, _, Y_raw, _, T_raw, _ = train_test_split(X, Y_raw, T_raw, train_size=limit, stratify=Y_raw, shuffle=True)\n",
    "    for i in range(len(X_list)):\n",
    "        X_list[i] = X[:,i,:]"
   ]
  },
  {
   "cell_type": "code",
   "execution_count": 12,
   "metadata": {
    "scrolled": false
   },
   "outputs": [
    {
     "name": "stdout",
     "output_type": "stream",
     "text": [
      "Epoch 1/100\n",
      "556/556 [==============================] - 1s 3ms/step - loss: 0.4864\n",
      "Epoch 2/100\n",
      "556/556 [==============================] - 0s 102us/step - loss: 0.4634\n",
      "Epoch 3/100\n",
      "556/556 [==============================] - 0s 97us/step - loss: 0.4400\n",
      "Epoch 4/100\n",
      "556/556 [==============================] - 0s 91us/step - loss: 0.4149\n",
      "Epoch 5/100\n",
      "556/556 [==============================] - 0s 110us/step - loss: 0.3876\n",
      "Epoch 6/100\n",
      "556/556 [==============================] - 0s 95us/step - loss: 0.3588\n",
      "Epoch 7/100\n",
      "556/556 [==============================] - 0s 113us/step - loss: 0.3301\n",
      "Epoch 8/100\n",
      "556/556 [==============================] - 0s 108us/step - loss: 0.3035\n",
      "Epoch 9/100\n",
      "556/556 [==============================] - 0s 89us/step - loss: 0.2808\n",
      "Epoch 10/100\n",
      "556/556 [==============================] - 0s 90us/step - loss: 0.2624\n",
      "Epoch 11/100\n",
      "556/556 [==============================] - 0s 92us/step - loss: 0.2478\n",
      "Epoch 12/100\n",
      "556/556 [==============================] - 0s 98us/step - loss: 0.2362\n",
      "Epoch 13/100\n",
      "556/556 [==============================] - 0s 91us/step - loss: 0.2269\n",
      "Epoch 14/100\n",
      "556/556 [==============================] - 0s 90us/step - loss: 0.2194\n",
      "Epoch 15/100\n",
      "556/556 [==============================] - 0s 91us/step - loss: 0.2133\n",
      "Epoch 16/100\n",
      "556/556 [==============================] - 0s 105us/step - loss: 0.2084\n",
      "Epoch 17/100\n",
      "556/556 [==============================] - 0s 102us/step - loss: 0.2044\n",
      "Epoch 18/100\n",
      "556/556 [==============================] - 0s 99us/step - loss: 0.2012\n",
      "Epoch 19/100\n",
      "556/556 [==============================] - 0s 102us/step - loss: 0.1987\n",
      "Epoch 20/100\n",
      "556/556 [==============================] - 0s 106us/step - loss: 0.1967\n",
      "Epoch 21/100\n",
      "556/556 [==============================] - 0s 90us/step - loss: 0.1951\n",
      "Epoch 22/100\n",
      "556/556 [==============================] - 0s 95us/step - loss: 0.1939\n",
      "Epoch 23/100\n",
      "556/556 [==============================] - 0s 95us/step - loss: 0.1930\n",
      "Epoch 24/100\n",
      "556/556 [==============================] - 0s 92us/step - loss: 0.1922\n",
      "Epoch 25/100\n",
      "556/556 [==============================] - 0s 101us/step - loss: 0.1917\n",
      "Epoch 26/100\n",
      "556/556 [==============================] - 0s 95us/step - loss: 0.1913\n",
      "Epoch 27/100\n",
      "556/556 [==============================] - 0s 92us/step - loss: 0.1909\n",
      "Epoch 28/100\n",
      "556/556 [==============================] - 0s 100us/step - loss: 0.1907\n",
      "Epoch 29/100\n",
      "556/556 [==============================] - 0s 102us/step - loss: 0.1905\n",
      "Epoch 30/100\n",
      "556/556 [==============================] - 0s 121us/step - loss: 0.1903\n",
      "Epoch 31/100\n",
      "556/556 [==============================] - 0s 111us/step - loss: 0.1902\n",
      "Epoch 32/100\n",
      "556/556 [==============================] - 0s 172us/step - loss: 0.1901\n",
      "Epoch 33/100\n",
      "556/556 [==============================] - 0s 197us/step - loss: 0.1900\n",
      "Epoch 34/100\n",
      "556/556 [==============================] - 0s 145us/step - loss: 0.1899\n",
      "Epoch 35/100\n",
      "556/556 [==============================] - 0s 108us/step - loss: 0.1898\n",
      "Epoch 36/100\n",
      "556/556 [==============================] - 0s 107us/step - loss: 0.1898\n",
      "Epoch 37/100\n",
      "556/556 [==============================] - 0s 103us/step - loss: 0.1897\n",
      "Epoch 38/100\n",
      "556/556 [==============================] - 0s 111us/step - loss: 0.1896\n",
      "Epoch 39/100\n",
      "556/556 [==============================] - 0s 140us/step - loss: 0.1896\n",
      "Epoch 40/100\n",
      "556/556 [==============================] - 0s 123us/step - loss: 0.1896\n",
      "Epoch 41/100\n",
      "556/556 [==============================] - 0s 105us/step - loss: 0.1895\n",
      "Epoch 42/100\n",
      "556/556 [==============================] - 0s 102us/step - loss: 0.1895\n",
      "Epoch 43/100\n",
      "556/556 [==============================] - 0s 106us/step - loss: 0.1894\n",
      "Epoch 44/100\n",
      "556/556 [==============================] - 0s 108us/step - loss: 0.1894\n",
      "Epoch 45/100\n",
      "556/556 [==============================] - 0s 104us/step - loss: 0.1894\n",
      "Epoch 46/100\n",
      "556/556 [==============================] - 0s 117us/step - loss: 0.1893\n",
      "Epoch 47/100\n",
      "556/556 [==============================] - 0s 97us/step - loss: 0.1893\n",
      "Epoch 48/100\n",
      "556/556 [==============================] - 0s 115us/step - loss: 0.1893\n",
      "Epoch 49/100\n",
      "556/556 [==============================] - 0s 99us/step - loss: 0.1892\n",
      "Epoch 50/100\n",
      "556/556 [==============================] - 0s 103us/step - loss: 0.1892\n",
      "Epoch 51/100\n",
      "556/556 [==============================] - 0s 99us/step - loss: 0.1892\n",
      "Epoch 52/100\n",
      "556/556 [==============================] - 0s 113us/step - loss: 0.1891\n",
      "Epoch 53/100\n",
      "556/556 [==============================] - 0s 106us/step - loss: 0.1891\n",
      "Epoch 54/100\n",
      "556/556 [==============================] - 0s 107us/step - loss: 0.1891\n",
      "Epoch 55/100\n",
      "556/556 [==============================] - 0s 112us/step - loss: 0.1891\n",
      "Epoch 56/100\n",
      "556/556 [==============================] - 0s 122us/step - loss: 0.1890\n",
      "Epoch 57/100\n",
      "556/556 [==============================] - 0s 109us/step - loss: 0.1890\n",
      "Epoch 58/100\n",
      "556/556 [==============================] - 0s 105us/step - loss: 0.1890\n",
      "Epoch 59/100\n",
      "556/556 [==============================] - 0s 104us/step - loss: 0.1889\n",
      "Epoch 60/100\n",
      "556/556 [==============================] - 0s 110us/step - loss: 0.1889\n",
      "Epoch 61/100\n",
      "556/556 [==============================] - 0s 109us/step - loss: 0.1889\n",
      "Epoch 62/100\n",
      "556/556 [==============================] - 0s 106us/step - loss: 0.1889\n",
      "Epoch 63/100\n",
      "556/556 [==============================] - 0s 111us/step - loss: 0.1889\n",
      "Epoch 64/100\n",
      "556/556 [==============================] - 0s 105us/step - loss: 0.1888\n",
      "Epoch 65/100\n",
      "556/556 [==============================] - 0s 107us/step - loss: 0.1888\n",
      "Epoch 66/100\n",
      "556/556 [==============================] - 0s 109us/step - loss: 0.1888\n",
      "Epoch 67/100\n",
      "556/556 [==============================] - 0s 105us/step - loss: 0.1888\n",
      "Epoch 68/100\n",
      "556/556 [==============================] - 0s 88us/step - loss: 0.1887\n",
      "Epoch 69/100\n",
      "556/556 [==============================] - 0s 89us/step - loss: 0.1887\n",
      "Epoch 70/100\n",
      "556/556 [==============================] - 0s 105us/step - loss: 0.1887\n",
      "Epoch 71/100\n",
      "556/556 [==============================] - 0s 108us/step - loss: 0.1887\n",
      "Epoch 72/100\n",
      "556/556 [==============================] - 0s 100us/step - loss: 0.1887\n",
      "Epoch 73/100\n",
      "556/556 [==============================] - 0s 113us/step - loss: 0.1887\n",
      "Epoch 74/100\n",
      "556/556 [==============================] - 0s 111us/step - loss: 0.1886\n",
      "Epoch 75/100\n",
      "556/556 [==============================] - 0s 126us/step - loss: 0.1886\n",
      "Epoch 76/100\n",
      "556/556 [==============================] - 0s 100us/step - loss: 0.1886\n",
      "Epoch 77/100\n",
      "556/556 [==============================] - 0s 128us/step - loss: 0.1886\n",
      "Epoch 78/100\n",
      "556/556 [==============================] - 0s 102us/step - loss: 0.1886\n",
      "Epoch 79/100\n",
      "556/556 [==============================] - 0s 116us/step - loss: 0.1886\n",
      "Epoch 80/100\n",
      "556/556 [==============================] - 0s 100us/step - loss: 0.1885\n",
      "Epoch 81/100\n",
      "556/556 [==============================] - 0s 115us/step - loss: 0.1885\n",
      "Epoch 82/100\n",
      "556/556 [==============================] - 0s 108us/step - loss: 0.1885\n",
      "Epoch 83/100\n",
      "556/556 [==============================] - 0s 120us/step - loss: 0.1885\n",
      "Epoch 84/100\n",
      "556/556 [==============================] - 0s 103us/step - loss: 0.1885\n",
      "Epoch 85/100\n",
      "556/556 [==============================] - 0s 114us/step - loss: 0.1885\n",
      "Epoch 86/100\n",
      "556/556 [==============================] - 0s 115us/step - loss: 0.1884\n",
      "Epoch 87/100\n",
      "556/556 [==============================] - 0s 120us/step - loss: 0.1884\n",
      "Epoch 88/100\n",
      "556/556 [==============================] - 0s 109us/step - loss: 0.1884\n",
      "Epoch 89/100\n",
      "556/556 [==============================] - 0s 96us/step - loss: 0.1884\n",
      "Epoch 90/100\n",
      "556/556 [==============================] - 0s 112us/step - loss: 0.1884\n",
      "Epoch 91/100\n",
      "556/556 [==============================] - 0s 110us/step - loss: 0.1884\n",
      "Epoch 92/100\n",
      "556/556 [==============================] - 0s 112us/step - loss: 0.1884\n",
      "Epoch 93/100\n",
      "556/556 [==============================] - 0s 99us/step - loss: 0.1884\n",
      "Epoch 94/100\n",
      "556/556 [==============================] - 0s 103us/step - loss: 0.1883\n",
      "Epoch 95/100\n",
      "556/556 [==============================] - 0s 98us/step - loss: 0.1883\n",
      "Epoch 96/100\n",
      "556/556 [==============================] - 0s 109us/step - loss: 0.1883\n",
      "Epoch 97/100\n"
     ]
    },
    {
     "name": "stdout",
     "output_type": "stream",
     "text": [
      "556/556 [==============================] - 0s 112us/step - loss: 0.1883\n",
      "Epoch 98/100\n",
      "556/556 [==============================] - 0s 102us/step - loss: 0.1883\n",
      "Epoch 99/100\n",
      "556/556 [==============================] - 0s 118us/step - loss: 0.1883\n",
      "Epoch 100/100\n",
      "556/556 [==============================] - 0s 106us/step - loss: 0.1883\n",
      "Autoencoder Training Loss: 0.1883\n"
     ]
    }
   ],
   "source": [
    "X_raw = encode(X_list, epochs=100, latent_factor=2)"
   ]
  },
  {
   "cell_type": "code",
   "execution_count": null,
   "metadata": {
    "scrolled": false
   },
   "outputs": [
    {
     "name": "stderr",
     "output_type": "stream",
     "text": [
      "[                                                                        ]   0%\r"
     ]
    },
    {
     "name": "stdout",
     "output_type": "stream",
     "text": [
      "556\n"
     ]
    }
   ],
   "source": [
    "start_time = time.time()\n",
    "X, Y, T = prepare_data(X_raw, Y_raw, T_raw)\n",
    "scaler = MinMaxScaler(copy=True)\n",
    "X_stat = scaler.fit_transform(X_list[0])\n",
    "\n",
    "dists = [\n",
    "    'np',\n",
    "    'wbl',\n",
    "    'exp',\n",
    "    'ray',\n",
    "]\n",
    "\n",
    "print(len(T))\n",
    "\n",
    "results = cross_validate(dists, X_stat, X, Y, T, cv=5, acc_thresholds=[i/2 for i in range(1,7)])\n",
    "print(\"--- %s seconds ---\" % (time.time() - start_time))\n"
   ]
  },
  {
   "cell_type": "code",
   "execution_count": null,
   "metadata": {},
   "outputs": [],
   "source": [
    "\n",
    "from tabulate import tabulate\n",
    "table = []\n",
    "row = []\n",
    "header = ['MAE', 'MRE', 'RMSE', 'MSLE', 'MDAE', 'CI', 'ACC-1', 'ACC-2', 'ACC-3', 'ACC-4', 'ACC-5', 'ACC-6']\n",
    "for pos in ['', '_stat']:\n",
    "    for dist in dists:\n",
    "        row.append(get_name(dist)+pos)\n",
    "        result = np.array(results[dist+pos])\n",
    "        mean = result.mean(axis=0)\n",
    "        table.append(mean)\n",
    "print(tabulate(table, showindex=row, floatfmt=\".2f\", headers=header))"
   ]
  },
  {
   "cell_type": "code",
   "execution_count": null,
   "metadata": {},
   "outputs": [],
   "source": []
  },
  {
   "cell_type": "code",
   "execution_count": null,
   "metadata": {},
   "outputs": [],
   "source": []
  },
  {
   "cell_type": "code",
   "execution_count": null,
   "metadata": {},
   "outputs": [],
   "source": []
  },
  {
   "cell_type": "code",
   "execution_count": null,
   "metadata": {},
   "outputs": [],
   "source": []
  },
  {
   "cell_type": "code",
   "execution_count": null,
   "metadata": {},
   "outputs": [],
   "source": []
  },
  {
   "cell_type": "code",
   "execution_count": null,
   "metadata": {},
   "outputs": [],
   "source": []
  },
  {
   "cell_type": "code",
   "execution_count": null,
   "metadata": {},
   "outputs": [],
   "source": []
  },
  {
   "cell_type": "code",
   "execution_count": null,
   "metadata": {},
   "outputs": [],
   "source": []
  },
  {
   "cell_type": "code",
   "execution_count": null,
   "metadata": {},
   "outputs": [],
   "source": []
  }
 ],
 "metadata": {
  "kernelspec": {
   "display_name": "Python 3",
   "language": "python",
   "name": "python3"
  },
  "language_info": {
   "codemirror_mode": {
    "name": "ipython",
    "version": 3
   },
   "file_extension": ".py",
   "mimetype": "text/x-python",
   "name": "python",
   "nbconvert_exporter": "python",
   "pygments_lexer": "ipython3",
   "version": "3.6.2rc2"
  }
 },
 "nbformat": 4,
 "nbformat_minor": 1
}
